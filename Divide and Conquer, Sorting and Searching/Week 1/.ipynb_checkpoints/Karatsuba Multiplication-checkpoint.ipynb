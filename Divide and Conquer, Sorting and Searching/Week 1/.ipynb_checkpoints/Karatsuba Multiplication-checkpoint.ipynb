{
 "cells": [
  {
   "cell_type": "code",
   "execution_count": 252,
   "metadata": {},
   "outputs": [],
   "source": [
    "import time\n",
    "import numpy as np"
   ]
  },
  {
   "cell_type": "code",
   "execution_count": 1,
   "metadata": {},
   "outputs": [],
   "source": [
    "x = 3141592653589793238462643383279502884197169399375105820974944592\n",
    "y = 2718281828459045235360287471352662497757247093699959574966967627"
   ]
  },
  {
   "cell_type": "code",
   "execution_count": 2,
   "metadata": {},
   "outputs": [],
   "source": [
    "def mult(x,y):\n",
    "    x , y = str(x) , str(y)\n",
    "    if(len(x) < 2) or (len(y) < 2) or len(x)%2!=0 or len(y)%2!=0:\n",
    "        return int(x)*int(y)\n",
    "    n = len(x)\n",
    "    hlf = n//2\n",
    "    a , b = x[:hlf] , x[hlf:]\n",
    "    c , d = y[:hlf] , y[hlf:]\n",
    "    a , b , c, d = int(a),int(b),int(c),int(d)\n",
    "    t1 = mult(a , c)\n",
    "    t2 = mult(a , d)\n",
    "    t3 = mult(b , c)\n",
    "    t4 = mult(b , d)\n",
    "    return ((10**n)*t1)+((10**(n//2))*(t2+t3)) + t4 "
   ]
  },
  {
   "cell_type": "code",
   "execution_count": 3,
   "metadata": {},
   "outputs": [
    {
     "name": "stdout",
     "output_type": "stream",
     "text": [
      "8539734222673567065463550869546574495034888535765114961879601127067743044893204848617875072216249073013374895871952806582723184\n"
     ]
    }
   ],
   "source": [
    "print(mult(x,y))"
   ]
  },
  {
   "cell_type": "code",
   "execution_count": 4,
   "metadata": {},
   "outputs": [
    {
     "name": "stdout",
     "output_type": "stream",
     "text": [
      "8539734222673567065463550869546574495034888535765114961879601127067743044893204848617875072216249073013374895871952806582723184\n"
     ]
    }
   ],
   "source": [
    "print(x*y)"
   ]
  }
 ],
 "metadata": {
  "kernelspec": {
   "display_name": "Python 3",
   "language": "python",
   "name": "python3"
  },
  "language_info": {
   "codemirror_mode": {
    "name": "ipython",
    "version": 3
   },
   "file_extension": ".py",
   "mimetype": "text/x-python",
   "name": "python",
   "nbconvert_exporter": "python",
   "pygments_lexer": "ipython3",
   "version": "3.6.10"
  }
 },
 "nbformat": 4,
 "nbformat_minor": 4
}
