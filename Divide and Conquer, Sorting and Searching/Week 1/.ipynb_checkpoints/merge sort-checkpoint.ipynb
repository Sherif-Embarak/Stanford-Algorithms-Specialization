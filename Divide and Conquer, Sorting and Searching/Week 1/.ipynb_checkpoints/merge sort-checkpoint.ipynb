{
 "cells": [
  {
   "cell_type": "code",
   "execution_count": 1,
   "metadata": {},
   "outputs": [],
   "source": [
    "def merge(x, y):\n",
    "    i = len(x)+len(y)\n",
    "    xi = 0\n",
    "    yi = 0\n",
    "    res = []\n",
    "    while(xi < len(x) and yi<len(y)):\n",
    "        if( x[xi] >= y[yi]):\n",
    "            res.append(y[yi])\n",
    "            yi+=1\n",
    "        else:\n",
    "            res.append(x[xi])\n",
    "            xi+=1\n",
    "            \n",
    "    while(xi<len(x)):\n",
    "        res.append(x[xi])\n",
    "        xi+=1\n",
    "        \n",
    "    while(yi<len(y)):\n",
    "        res.append(y[yi])\n",
    "        yi+=1\n",
    "    return res"
   ]
  },
  {
   "cell_type": "code",
   "execution_count": 5,
   "metadata": {},
   "outputs": [],
   "source": [
    "def srt(x):\n",
    "    if(len(x) <= 1): \n",
    "        return x\n",
    "    n = len(x)\n",
    "    hlf = n//2\n",
    "    a , b = x[:hlf] , x[hlf:]\n",
    "    return (merge(srt(a),srt(b)))"
   ]
  },
  {
   "cell_type": "code",
   "execution_count": 12,
   "metadata": {},
   "outputs": [
    {
     "data": {
      "text/plain": [
       "[-20, -2, 1, 2, 3, 4, 7, 9, 100, 300]"
      ]
     },
     "execution_count": 12,
     "metadata": {},
     "output_type": "execute_result"
    }
   ],
   "source": [
    "srt([2,3,4,9,1,100,300,-2,7,-20])"
   ]
  },
  {
   "cell_type": "code",
   "execution_count": null,
   "metadata": {},
   "outputs": [],
   "source": []
  }
 ],
 "metadata": {
  "kernelspec": {
   "display_name": "Python 3",
   "language": "python",
   "name": "python3"
  },
  "language_info": {
   "codemirror_mode": {
    "name": "ipython",
    "version": 3
   },
   "file_extension": ".py",
   "mimetype": "text/x-python",
   "name": "python",
   "nbconvert_exporter": "python",
   "pygments_lexer": "ipython3",
   "version": "3.6.10"
  }
 },
 "nbformat": 4,
 "nbformat_minor": 4
}
