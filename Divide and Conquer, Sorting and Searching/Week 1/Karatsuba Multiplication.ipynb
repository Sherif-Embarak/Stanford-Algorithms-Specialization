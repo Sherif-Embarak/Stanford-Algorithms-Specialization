{
 "cells": [
  {
   "cell_type": "code",
   "execution_count": 252,
   "metadata": {},
   "outputs": [],
   "source": [
    "import time\n",
    "import numpy as np"
   ]
  },
  {
   "cell_type": "code",
   "execution_count": 277,
   "metadata": {},
   "outputs": [],
   "source": [
    "x = int(np.random.rand()*10**256)\n",
    "y = int(np.random.rand()*10**256)"
   ]
  },
  {
   "cell_type": "code",
   "execution_count": 278,
   "metadata": {},
   "outputs": [],
   "source": [
    "def mult(x,y):\n",
    "    x , y = str(x) , str(y)\n",
    "    if(len(x) < 2) or (len(y) < 2) or len(x)%2!=0 or len(y)%2!=0:\n",
    "        return int(x)*int(y)\n",
    "    n = len(x)\n",
    "    hlf = n//2\n",
    "    a , b = x[:hlf] , x[hlf:]\n",
    "    c , d = y[:hlf] , y[hlf:]\n",
    "    a , b , c, d = int(a),int(b),int(c),int(d)\n",
    "    t1 = mult(a , c)\n",
    "    t2 = mult(a , d)\n",
    "    t3 = mult(b , c)\n",
    "    t4 = mult(b , d)\n",
    "    return ((10**n)*t1)+((10**(n//2))*(t2+t3)) + t4 "
   ]
  },
  {
   "cell_type": "code",
   "execution_count": 279,
   "metadata": {},
   "outputs": [
    {
     "name": "stdout",
     "output_type": "stream",
     "text": [
      "22696197006955224724246871459026628981167416533218895267452243015768518705221863129903555625557845657233714963167750934186118375290347794021301473269377062668792295773567929301751751693835424687020469007932070015985578929399731880925975505306163830324578065930614412495338387532854834811526960384217777415538483832598739610152454574506819913053725773606338992595652359433550614175823174818894202104650821034142390395828808573267527385166736142805879303532981154920451258753376772394584107990265013299567017328640\n",
      "0.028992652893066406\n"
     ]
    }
   ],
   "source": [
    "s = time.time()\n",
    "print(mult(x,y))\n",
    "print(time.time()-s)"
   ]
  },
  {
   "cell_type": "code",
   "execution_count": 281,
   "metadata": {},
   "outputs": [
    {
     "name": "stdout",
     "output_type": "stream",
     "text": [
      "22696197006955224724246871459026628981167416533218895267452243015768518705221863129903555679264847677452802982476816293725198596875093931476075296810800950384870764828281696921724579126033382357244095208303090711285578929399731880925975505306163830324578065930614412495338387532854834811526960384217777415538483832598739610152454574506819913053725773606338992595652359433550614175823174818894202104650821034142390395828808573267527385166736142805879303532981154920451258753376772394584107990265013299567017328640\n",
      "0.0010027885437011719\n"
     ]
    }
   ],
   "source": [
    "s = time.time()\n",
    "print(x*y)\n",
    "print(time.time()-s)"
   ]
  },
  {
   "cell_type": "code",
   "execution_count": null,
   "metadata": {},
   "outputs": [],
   "source": [
    "s = time.time()\n",
    "ans = 0\n",
    "for i in range(0,x):\n",
    "    ans+=y\n",
    "print(y)\n",
    "print(time.time()-s)"
   ]
  },
  {
   "cell_type": "code",
   "execution_count": null,
   "metadata": {},
   "outputs": [],
   "source": []
  }
 ],
 "metadata": {
  "kernelspec": {
   "display_name": "Python 3",
   "language": "python",
   "name": "python3"
  },
  "language_info": {
   "codemirror_mode": {
    "name": "ipython",
    "version": 3
   },
   "file_extension": ".py",
   "mimetype": "text/x-python",
   "name": "python",
   "nbconvert_exporter": "python",
   "pygments_lexer": "ipython3",
   "version": "3.6.10"
  }
 },
 "nbformat": 4,
 "nbformat_minor": 4
}
